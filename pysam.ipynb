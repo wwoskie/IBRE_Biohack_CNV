{
 "cells": [
  {
   "cell_type": "code",
   "execution_count": 1,
   "id": "b55cf2d4-c22f-4e65-8357-936b7df7aecb",
   "metadata": {},
   "outputs": [],
   "source": [
    "import pysam"
   ]
  },
  {
   "cell_type": "code",
   "execution_count": 33,
   "id": "07cf47ee-2034-480b-b7c9-e956b05a285f",
   "metadata": {},
   "outputs": [],
   "source": [
    "fetch_dct = {'chr1': [100, 10000],\n",
    "            'chr2': [1000, 10000],\n",
    "            'chr3': [100, 10000],\n",
    "            'chr4': [100, 10000],\n",
    "            'chr5': [100, 10000]}"
   ]
  },
  {
   "cell_type": "code",
   "execution_count": 34,
   "id": "e917c708-b840-4d53-aeb1-addd126e0083",
   "metadata": {},
   "outputs": [],
   "source": [
    "#pysam.index(\"../WES-normal.bam\")"
   ]
  },
  {
   "cell_type": "code",
   "execution_count": 35,
   "id": "44f7fd80-9ba6-4f38-bd04-713931b9b00e",
   "metadata": {},
   "outputs": [],
   "source": [
    "samfile = pysam.AlignmentFile(\"../WES-normal.bam\", \"rb\")"
   ]
  },
  {
   "cell_type": "code",
   "execution_count": 36,
   "id": "5b03ee74-6bd4-4ba1-b3f6-384627a90072",
   "metadata": {},
   "outputs": [
    {
     "name": "stdout",
     "output_type": "stream",
     "text": [
      "chr1 100 10000\n",
      "A01599:274:HCCJNDMXY:2:1148:8567:29575\t387\t#0\t10000\t0\t71H37M\t#21\t22918147\t0\tATAACCCTAACCCTAACCCTAACCCTAACCCTAACCC\tarray('B', [37, 37, 37, 37, 37, 37, 37, 37, 37, 37, 37, 37, 37, 37, 37, 37, 37, 37, 37, 37, 37, 37, 37, 37, 37, 37, 37, 37, 37, 37, 37, 37, 37, 37, 37, 37, 37])\t[('NM', 0), ('MD', '37'), ('MC', '29H79M'), ('AS', 37), ('XS', 37), ('RG', 'A01599:274:HCCJNDMXY:2'), ('SA', 'chr22,22918147,-,29S79M,40,0;')]\n",
      "A01599:274:HCCJNDMXY:2:1148:8567:29575\t371\t#0\t10000\t0\t71H37M\t#21\t22918147\t0\tATAACCCTAACCCTAACCCTAACCCTAACCCTAACCC\tarray('B', [37, 37, 37, 37, 37, 37, 37, 37, 37, 37, 37, 37, 37, 37, 37, 37, 37, 37, 37, 37, 37, 37, 37, 37, 37, 37, 37, 25, 37, 37, 37, 37, 37, 37, 37, 37, 37])\t[('NM', 0), ('MD', '37'), ('MC', '29H79M'), ('AS', 37), ('XS', 37), ('RG', 'A01599:274:HCCJNDMXY:2'), ('SA', 'chr22,22918147,+,29S79M,40,0;')]\n",
      "chr2 1000 10000\n",
      "chr3 100 10000\n",
      "chr4 100 10000\n",
      "chr5 100 10000\n",
      "A01599:274:HCCJNDMXY:1:1474:9516:11428\t147\t#4\t9997\t0\t46S95M\t#4\t10032\t-60\tTACACGCCGTAACACACTCTTTCCCTACCCGAGGCTCTTACGTTCTGTTGTAACCCTAACCCTTACCATAACCCTAACCCTAACCGTTAACCTAACCCTAACCCTACCCCTGACCCTAACCCTAACCCTAACCCTAACCCT\tarray('B', [37, 25, 37, 25, 37, 11, 37, 11, 37, 25, 25, 11, 25, 11, 11, 11, 37, 11, 25, 11, 37, 11, 11, 25, 11, 11, 11, 11, 11, 11, 37, 25, 11, 11, 37, 37, 11, 37, 37, 11, 11, 11, 11, 37, 11, 37, 37, 37, 11, 37, 37, 37, 37, 11, 11, 25, 25, 37, 37, 11, 11, 11, 37, 11, 37, 11, 37, 11, 37, 11, 11, 25, 11, 25, 37, 25, 11, 11, 37, 11, 37, 37, 37, 11, 25, 11, 37, 11, 11, 11, 37, 11, 37, 37, 37, 11, 37, 25, 37, 37, 11, 37, 37, 11, 37, 11, 11, 25, 37, 37, 37, 11, 11, 25, 25, 11, 37, 37, 37, 37, 11, 25, 37, 11, 37, 37, 25, 37, 37, 37, 11, 37, 25, 37, 37, 25, 37, 37, 37, 25, 37])\t[('NM', 7), ('MD', '17A3C17C1A1C16A4A29'), ('MC', '86M'), ('AS', 60), ('XS', 59), ('RG', 'A01599:274:HCCJNDMXY:1')]\n",
      "A01599:274:HCCJNDMXY:1:2176:19533:12524\t83\t#4\t9999\t0\t61S80M\t#4\t10018\t-61\tCCCTACCACTAACAATAACCCTCCCGACTCGAGTTACGCTTATGACTCGACTTACGCTTTCTGTAACCCTTAACCTAACCCTAACCCTAACCCTAACCCTAACCCTAACCCTAACCCTAACCCTAACCCTAACCCTAACCC\tarray('B', [11, 37, 25, 11, 11, 11, 11, 11, 25, 11, 11, 37, 11, 11, 11, 11, 37, 25, 25, 25, 37, 37, 11, 11, 11, 11, 25, 11, 11, 11, 25, 11, 11, 37, 25, 11, 11, 11, 37, 25, 11, 11, 11, 11, 11, 11, 37, 11, 25, 11, 11, 37, 37, 11, 11, 11, 11, 11, 37, 37, 11, 11, 11, 25, 11, 11, 11, 11, 37, 25, 11, 25, 11, 37, 11, 25, 25, 37, 37, 11, 37, 37, 25, 11, 25, 37, 37, 37, 25, 37, 37, 37, 37, 37, 37, 37, 37, 37, 37, 37, 37, 37, 37, 37, 37, 37, 37, 37, 37, 37, 37, 37, 37, 37, 37, 37, 37, 37, 37, 37, 37, 37, 37, 37, 37, 37, 37, 37, 37, 37, 37, 37, 37, 37, 37, 37, 37, 37, 37, 37, 37])\t[('NM', 2), ('MD', '9A1C68'), ('MC', '64M'), ('AS', 70), ('XS', 68), ('RG', 'A01599:274:HCCJNDMXY:1')]\n",
      "A01599:274:HCCJNDMXY:2:2122:11415:21574\t177\t#4\t10000\t0\t37S35M\t#6\t121594743\t0\tTTTAATTCTCTATTTAACATTTTAATTTACATTATCAGTAACCCTAACCCTAACCCTAACCCTAACCCTAAC\tarray('B', [25, 11, 37, 11, 11, 11, 25, 11, 37, 11, 25, 11, 11, 11, 37, 25, 37, 11, 11, 11, 37, 37, 11, 11, 25, 11, 25, 11, 25, 37, 25, 11, 25, 11, 11, 37, 37, 11, 37, 37, 37, 37, 37, 37, 37, 37, 37, 37, 37, 37, 37, 37, 37, 37, 37, 37, 37, 37, 37, 37, 37, 37, 37, 37, 37, 37, 37, 37, 37, 37, 37, 37])\t[('NM', 0), ('MD', '35'), ('MC', '92S47M'), ('AS', 35), ('XS', 34), ('RG', 'A01599:274:HCCJNDMXY:2')]\n"
     ]
    }
   ],
   "source": [
    "for region in fetch_dct:\n",
    "    print(region, fetch_dct[region][0], fetch_dct[region][1])\n",
    "    for read in samfile.fetch(region, fetch_dct[region][0], fetch_dct[region][1]):\n",
    "        print(read)"
   ]
  },
  {
   "cell_type": "code",
   "execution_count": null,
   "id": "319b73d0-7e5f-4726-8796-0e9b541feb7d",
   "metadata": {},
   "outputs": [],
   "source": []
  }
 ],
 "metadata": {
  "kernelspec": {
   "display_name": "Python 3 (ipykernel)",
   "language": "python",
   "name": "python3"
  },
  "language_info": {
   "codemirror_mode": {
    "name": "ipython",
    "version": 3
   },
   "file_extension": ".py",
   "mimetype": "text/x-python",
   "name": "python",
   "nbconvert_exporter": "python",
   "pygments_lexer": "ipython3",
   "version": "3.10.12"
  }
 },
 "nbformat": 4,
 "nbformat_minor": 5
}
